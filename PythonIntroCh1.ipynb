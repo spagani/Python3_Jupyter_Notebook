{
 "cells": [
  {
   "cell_type": "markdown",
   "metadata": {},
   "source": [
    "< [Indice](PythonIntro.ipynb) | [Programmi in un file, variabili e stringhe](PythonIntroCh2.ipynb) >"
   ]
  },
  {
   "cell_type": "markdown",
   "metadata": {},
   "source": [
    "# 1. Programmi molto semplici\n",
    "## 1.1 Eseguire Python dalla riga di comando\n",
    "Per testare porzioni di codice possiamo eseguire Python dalla riga di comando. In questo Jupyter Notebook simuleremo questa operazione. Puoi digitare i comandi nei campi ed eseguirli.<br>\n",
    "Nel campo digita:<br>\n",
    "```python\n",
    "print('Hello, World')\n",
    "```\n",
    "Poi premi `<shift> + <return>` per eseguire il comando.\n",
    "\n"
   ]
  },
  {
   "cell_type": "code",
   "execution_count": null,
   "metadata": {},
   "outputs": [],
   "source": []
  },
  {
   "cell_type": "markdown",
   "metadata": {},
   "source": [
    "Cosa è successo?\n",
    "\n",
    "Hai appena creato un programma che stampa le parole 'Hello, World'. L'ambiente Python in cui ti trovi compila immediatamente qualsiasi cosa tu abbia digitato. Questo è utile per testare delle cose, ad esempio definire alcune variabili e poi verificare se una certa riga funziona. Ma questo lo vedremo in una lezione successiva."
   ]
  },
  {
   "cell_type": "markdown",
   "metadata": {},
   "source": [
    "## 1.2 Matematica in Python\n",
    "Digita<br>\n",
    "```python\n",
    "1 + 1\n",
    "```\n",
    "ed esegui il codice."
   ]
  },
  {
   "cell_type": "code",
   "execution_count": null,
   "metadata": {
    "scrolled": true
   },
   "outputs": [],
   "source": [
    " + 1"
   ]
  },
  {
   "cell_type": "markdown",
   "metadata": {},
   "source": [
    "Ora digita\n",
    "```python\n",
    "20 + 80\n",
    "```\n",
    "ed esegui il codice."
   ]
  },
  {
   "cell_type": "code",
   "execution_count": null,
   "metadata": {},
   "outputs": [],
   "source": []
  },
  {
   "cell_type": "markdown",
   "metadata": {},
   "source": [
    "Queste sono addizioni. Possiamo ovviamente usare anche altri operatori matematici.<br>\n",
    "Prova questa sottrazione:<br>\n",
    "```python\n",
    "6 - 5\n",
    "```"
   ]
  },
  {
   "cell_type": "code",
   "execution_count": null,
   "metadata": {},
   "outputs": [],
   "source": []
  },
  {
   "cell_type": "markdown",
   "metadata": {},
   "source": [
    "e questa moltiplicazione:<br>\n",
    "```python\n",
    "2 * 5\n",
    "```"
   ]
  },
  {
   "cell_type": "code",
   "execution_count": null,
   "metadata": {},
   "outputs": [],
   "source": []
  },
  {
   "cell_type": "markdown",
   "metadata": {},
   "source": [
    "Prova:\n",
    "```python\n",
    "5 ** 2\n",
    "```"
   ]
  },
  {
   "cell_type": "code",
   "execution_count": null,
   "metadata": {},
   "outputs": [],
   "source": []
  },
  {
   "cell_type": "markdown",
   "metadata": {},
   "source": [
    "`**` è l'operatore esponenziale, quindi abbiamo eseguito 5 al quadrato."
   ]
  },
  {
   "cell_type": "markdown",
   "metadata": {},
   "source": [
    "Digita:\n",
    "```python\n",
    "print('1 + 2 è un'addizione')\n",
    "```"
   ]
  },
  {
   "cell_type": "code",
   "execution_count": null,
   "metadata": {},
   "outputs": [],
   "source": []
  },
  {
   "cell_type": "markdown",
   "metadata": {},
   "source": [
    "Vedi che l'istruzione `print` scrive qualcosa sullo schermo.\n",
    "\n",
    "Prova questo:\n",
    "```python\n",
    "print('un kilobyte è 2^10 byte, ovvero', 2 ** 10, 'byte')\n",
    "```"
   ]
  },
  {
   "cell_type": "code",
   "execution_count": null,
   "metadata": {},
   "outputs": [],
   "source": []
  },
  {
   "cell_type": "markdown",
   "metadata": {},
   "source": [
    "Questo dimostra che puoi stampare testo e calcoli in una frase. Le virgole che separano ogni sezione servono a separare le stringhe (testo) dai calcoli o dalle variabili."
   ]
  },
  {
   "cell_type": "markdown",
   "metadata": {},
   "source": [
    "Ora prova questo:\n",
    "```python\n",
    "23 / 3\n",
    "```"
   ]
  },
  {
   "cell_type": "code",
   "execution_count": null,
   "metadata": {},
   "outputs": [],
   "source": []
  },
  {
   "cell_type": "markdown",
   "metadata": {},
   "source": [
    "E questo:<br>\n",
    "```python\n",
    "23 % 3\n",
    "```"
   ]
  },
  {
   "cell_type": "code",
   "execution_count": null,
   "metadata": {},
   "outputs": [],
   "source": []
  },
  {
   "cell_type": "markdown",
   "metadata": {},
   "source": [
    "`%` restituisce il resto della divisione."
   ]
  },
  {
   "cell_type": "markdown",
   "metadata": {},
   "source": [
    "## 1.3 Ordine delle operazioni"
   ]
  },
  {
   "cell_type": "markdown",
   "metadata": {},
   "source": [
    "Ricordi quella cosa chiamata ordine delle operazioni che ti hanno insegnato in matematica? Bene, vale anche in Python. Ecco qui, se hai bisogno di un promemoria:<br>\n",
    "1. Parentesi `()`\n",
    "2. Esponenti `**`\n",
    "3. Moltiplicazione `*`, divisione `/` e resto `%`\n",
    "4. Addizione `+` e sottrazione `-`"
   ]
  },
  {
   "cell_type": "markdown",
   "metadata": {},
   "source": [
    "Ecco alcuni esempi che potresti voler provare, se sei arrugginito su questo:<br>\n",
    "```python\n",
    "1 + 2 * 3\n",
    "(1 + 2) * 3\n",
    "```"
   ]
  },
  {
   "cell_type": "code",
   "execution_count": null,
   "metadata": {},
   "outputs": [],
   "source": []
  },
  {
   "cell_type": "code",
   "execution_count": null,
   "metadata": {},
   "outputs": [],
   "source": []
  },
  {
   "cell_type": "markdown",
   "metadata": {},
   "source": [
    "## 1.4 Commenti, per favore\n",
    "L'ultima cosa che devi sapere per passare a programmi su più righe è il commento. Digita quanto segue (e sì, l'output viene mostrato):\n",
    "```python\n",
    "# Sono un commento. Teme la mia ira!\n",
    "```"
   ]
  },
  {
   "cell_type": "code",
   "execution_count": null,
   "metadata": {},
   "outputs": [],
   "source": []
  },
  {
   "cell_type": "markdown",
   "metadata": {},
   "source": [
    "Un commento è una parte di codice che non viene eseguita. In Python, rendi qualcosa un commento mettendo un cancelletto davanti. Un cancelletto commenta tutto ciò che segue nella riga, e nulla prima. Quindi potresti digitare questo:\n",
    "```python\n",
    "print(\"il cibo è molto buono\") #mangiami\n",
    "```"
   ]
  },
  {
   "cell_type": "code",
   "execution_count": null,
   "metadata": {},
   "outputs": [],
   "source": []
  },
  {
   "cell_type": "markdown",
   "metadata": {},
   "source": [
    "Questo produce un output normale, senza il commento, grazie mille.\n",
    "\n",
    "Ora prova questo:\n",
    "```python\n",
    "# print(\"il cibo è molto buono\")\n",
    "```"
   ]
  },
  {
   "cell_type": "code",
   "execution_count": null,
   "metadata": {},
   "outputs": [],
   "source": []
  },
  {
   "cell_type": "markdown",
   "metadata": {},
   "source": [
    "Non succede nulla, perché il codice era dopo un commento."
   ]
  },
  {
   "cell_type": "markdown",
   "metadata": {},
   "source": [
    "I commenti sono importanti per aggiungere informazioni necessarie che un altro programmatore possa leggere, ma non il computer. Ad esempio, una spiegazione di una sezione di codice, che dice cosa fa o cosa non va. Puoi anche commentare parti di codice mettendo un `#` davanti - se non vuoi che venga eseguito, ma non puoi cancellarlo perché potresti averne bisogno in seguito."
   ]
  },
  {
   "cell_type": "markdown",
   "metadata": {},
   "source": [
    "# Esercizio 1\n",
    "\n",
    "Scrivi nella cella sottostante un'espressione per scoprire quanti secondi ci sono in un anno di 365 giorni."
   ]
  },
  {
   "cell_type": "code",
   "execution_count": null,
   "metadata": {},
   "outputs": [],
   "source": []
  },
  {
   "cell_type": "markdown",
   "metadata": {},
   "source": [
    "# Esercizio 2\n",
    "\n",
    "La Terra può essere approssimata come una sfera con un raggio di 6370 km. Usa la cella sottostante per calcolare il volume di questa forma in metri cubi."
   ]
  },
  {
   "cell_type": "code",
   "execution_count": null,
   "metadata": {},
   "outputs": [],
   "source": []
  },
  {
   "cell_type": "markdown",
   "metadata": {},
   "source": [
    "# Esercizio 3\n",
    "\n",
    "Ottieni il risultato della seguente espressione, usando la cella sottostante:\n",
    "\n",
    "$$\\frac{1}{2}+\\frac{\\frac{1}{3}}{\\frac{1}{4}+\\frac{1}{5}}$$"
   ]
  },
  {
   "cell_type": "code",
   "execution_count": null,
   "metadata": {},
   "outputs": [],
   "source": []
  },
  {
   "cell_type": "markdown",
   "metadata": {},
   "source": [
    "< [Indice](PythonIntro.ipynb) | [Programmi in un file, variabili e stringhe](PythonIntroCh2.ipynb) >"
   ]
  }
 ],
 "metadata": {
  "kernelspec": {
   "display_name": "Python 3 (ipykernel)",
   "language": "python",
   "name": "python3"
  },
  "language_info": {
   "codemirror_mode": {
    "name": "ipython",
    "version": 3
   },
   "file_extension": ".py",
   "mimetype": "text/x-python",
   "name": "python",
   "nbconvert_exporter": "python",
   "pygments_lexer": "ipython3",
   "version": "3.11.4"
  }
 },
 "nbformat": 4,
 "nbformat_minor": 4
}
